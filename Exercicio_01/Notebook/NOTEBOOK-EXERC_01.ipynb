{
    "metadata": {
        "kernelspec": {
            "name": "SQL",
            "display_name": "SQL",
            "language": "sql"
        },
        "language_info": {
            "name": "sql",
            "version": ""
        }
    },
    "nbformat_minor": 2,
    "nbformat": 4,
    "cells": [
        {
            "cell_type": "markdown",
            "source": [
                "<span style=\"font-size: 12pt; font-family: Arial; color: rgb(0, 0, 0); background-color: transparent; font-weight: 700; font-variant-numeric: normal; font-variant-east-asian: normal; vertical-align: baseline; white-space: pre-wrap;\">CHALLENGE DWE 2022 - ALUNA 28 - PALOMA RIBEIRO</span>"
            ],
            "metadata": {
                "azdata_cell_guid": "d8df802e-2a9c-42fc-8eb0-f19a484700f9"
            },
            "attachments": {}
        },
        {
            "cell_type": "markdown",
            "source": [
                "**CRIANDO O BANCO DE DADOS DESAFIO**"
            ],
            "metadata": {
                "azdata_cell_guid": "c6a7cbfb-403e-4e30-96a3-df711a3c5f8f"
            },
            "attachments": {}
        },
        {
            "cell_type": "code",
            "source": [
                "CREATE DATABASE DESAFIO"
            ],
            "metadata": {
                "azdata_cell_guid": "4bc69e37-363f-441c-ac4e-67a1ca95922e"
            },
            "outputs": [],
            "execution_count": null
        },
        {
            "cell_type": "markdown",
            "source": [
                "**CRIANDO A TABELA CIDADE**\n",
                "\n",
                "<span style=\"font-size: 12pt; font-family: Arial; color: rgb(0, 0, 0); background-color: transparent; font-variant-numeric: normal; font-variant-east-asian: normal; vertical-align: baseline; white-space: pre-wrap;\"><span style=\"border:none;display:inline-block;overflow:hidden;width:221px;height:99px;\"><img src=\"https://lh6.googleusercontent.com/x2mXqKHUEPl3c9Az-QmeKRumST5byfyJMkfWfTpqIaSj4M8XZq1CylnTFMRPKVU1P_8nQFXq38VNtjStO5LBmOp9NTqh3KwSHeKU_WQMj9IoqDkO4ziq8zazvoxFHYuwJtasejBA\" width=\"221\" height=\"99\" style=\"margin-left:0px;margin-top:0px;\"></span></span>"
            ],
            "metadata": {
                "azdata_cell_guid": "2e05ff9d-5b99-4d85-8995-977f10c60041"
            },
            "attachments": {}
        },
        {
            "cell_type": "code",
            "source": [
                "USE [DESAFIO]\r\n",
                "GO\r\n",
                "IF NOT EXISTS\r\n",
                "  (SELECT * FROM sysobjects WHERE name='CIDADE' AND xtype='U')\r\n",
                "\r\n",
                "CREATE TABLE CIDADE\r\n",
                "(\r\n",
                "\tid_cidade INT PRIMARY KEY IDENTITY(1,1) NOT NULL,\r\n",
                "\tnome_cidade VARCHAR(60) NOT NULL,\r\n",
                "\tUF VARCHAR(2) NOT NULL\r\n",
                "\t);"
            ],
            "metadata": {
                "azdata_cell_guid": "9820120e-5212-4499-8669-34ee8cdd473d"
            },
            "outputs": [
                {
                    "output_type": "display_data",
                    "data": {
                        "text/html": "Commands completed successfully."
                    },
                    "metadata": {}
                },
                {
                    "output_type": "display_data",
                    "data": {
                        "text/html": "Commands completed successfully."
                    },
                    "metadata": {}
                },
                {
                    "output_type": "display_data",
                    "data": {
                        "text/html": "Total execution time: 00:00:00.073"
                    },
                    "metadata": {}
                }
            ],
            "execution_count": 1
        },
        {
            "cell_type": "markdown",
            "source": [
                "**CRIANDO A TABELA CLIENTE**\n",
                "\n",
                "<span style=\"font-size: 12pt; font-family: Arial; color: rgb(0, 0, 0); background-color: transparent; font-variant-numeric: normal; font-variant-east-asian: normal; vertical-align: baseline; white-space: pre-wrap;\"><span style=\"border:none;display:inline-block;overflow:hidden;width:232px;height:153px;\"><img src=\"https://lh6.googleusercontent.com/vyljuXiw9kHYA8XpRtIxHUXzuAfddXqmcsmPKJxdYwSgizCjOKSxCQctrHLzEs_H3fLjhgkupzfF_wKKM76DSWjynZyYdnwIl3WXU-b0Hk0RcMu1GQqEK1aFGLNT47z2zL1U7bU1\" width=\"232\" height=\"153\" style=\"margin-left:0px;margin-top:0px;\"></span></span>"
            ],
            "metadata": {
                "azdata_cell_guid": "eff5fa07-33f6-4594-91bb-36ec36d2f212"
            },
            "attachments": {}
        },
        {
            "cell_type": "code",
            "source": [
                "USE [DESAFIO]\r\n",
                "GO\r\n",
                "IF NOT EXISTS\r\n",
                "  (SELECT * FROM sysobjects WHERE name='CLIENTE' AND xtype='U')\r\n",
                "\r\n",
                "CREATE TABLE CLIENTE\r\n",
                "(\r\n",
                "\tid_cliente INT PRIMARY KEY IDENTITY(1,1) NOT NULL,\r\n",
                "\tnome_cliente VARCHAR(60) NOT NULL,\r\n",
                "\tendereco VARCHAR(60) NOT NULL,\r\n",
                "\tnumero VARCHAR(10) NOT NULL,\r\n",
                "\tid_cidade INT NOT NULL,\r\n",
                "\tCEP VARCHAR(9) NOT NULL,\r\n",
                "\tFOREIGN KEY(id_cidade) REFERENCES cidade(id_cidade),\r\n",
                "\t);"
            ],
            "metadata": {
                "azdata_cell_guid": "b809a74a-3613-440b-80e2-affd90d92f88"
            },
            "outputs": [
                {
                    "output_type": "display_data",
                    "data": {
                        "text/html": "Commands completed successfully."
                    },
                    "metadata": {}
                },
                {
                    "output_type": "display_data",
                    "data": {
                        "text/html": "Commands completed successfully."
                    },
                    "metadata": {}
                },
                {
                    "output_type": "display_data",
                    "data": {
                        "text/html": "Total execution time: 00:00:00.017"
                    },
                    "metadata": {}
                }
            ],
            "execution_count": 2
        },
        {
            "cell_type": "markdown",
            "source": [
                "**CRIANDO A TABELA VENDEDORES**\n",
                "\n",
                "<span style=\"font-size: 12pt; font-family: Arial; color: rgb(0, 0, 0); background-color: transparent; font-variant-numeric: normal; font-variant-east-asian: normal; vertical-align: baseline; white-space: pre-wrap;\"><span style=\"border:none;display:inline-block;overflow:hidden;width:239px;height:93px;\"><img src=\"https://lh3.googleusercontent.com/26Bwc2bsX1KuSo29CyCycq3ZUl4r2I0T3Rr4VQEfsCpxb4_di6nblV15rXZsXwk_JydG9_ZjvYfGbQ6Ri0QwJZgFDeatDujJxm37X1rd6KfWsuIfGn-ymw6XSOpHEXMWLixBkeMn\" width=\"239\" height=\"93\" style=\"margin-left:0px;margin-top:0px;\"></span></span>"
            ],
            "metadata": {
                "azdata_cell_guid": "5ba66615-6eaf-497f-82a6-e66d82bd2fb7"
            },
            "attachments": {}
        },
        {
            "cell_type": "code",
            "source": [
                "USE [DESAFIO]\r\n",
                "GO\r\n",
                "IF NOT EXISTS\r\n",
                "  (SELECT * FROM sysobjects WHERE name='VENDEDORES' AND xtype='U')\r\n",
                "\r\n",
                "CREATE TABLE VENDEDORES\r\n",
                "(\r\n",
                "\tid_vendedor INT PRIMARY KEY IDENTITY(1,1) NOT NULL,\r\n",
                "\tnome_vended VARCHAR(60) NOT NULL,\r\n",
                "\tsalario DECIMAL(10, 2)\r\n",
                "\t);"
            ],
            "metadata": {
                "azdata_cell_guid": "6fd45d27-882b-4288-b8f3-aafe2a47af1d"
            },
            "outputs": [
                {
                    "output_type": "display_data",
                    "data": {
                        "text/html": "Commands completed successfully."
                    },
                    "metadata": {}
                },
                {
                    "output_type": "display_data",
                    "data": {
                        "text/html": "Commands completed successfully."
                    },
                    "metadata": {}
                },
                {
                    "output_type": "display_data",
                    "data": {
                        "text/html": "Total execution time: 00:00:00.018"
                    },
                    "metadata": {}
                }
            ],
            "execution_count": 3
        },
        {
            "cell_type": "markdown",
            "source": [
                "**CRIANDO A TABELA VENDAS**\n",
                "\n",
                "<span style=\"font-size: 12pt; font-family: Arial; color: rgb(0, 0, 0); background-color: transparent; font-variant-numeric: normal; font-variant-east-asian: normal; vertical-align: baseline; white-space: pre-wrap;\"><span style=\"border:none;display:inline-block;overflow:hidden;width:183px;height:129px;\"><img src=\"https://lh6.googleusercontent.com/T0EHuzmpeMtyi1NA6za7CUCz-_0xkYEQEunvfSZYhnHusqDC2pqLESJfSNE4UrfYgwJXySQ2QpRvhMjcie8Ib_s5xAkCFgRf4TAA_bUV6Uqmb_1Y1Hj47WxYNE_DvAOgXTaGRRJr\" width=\"183\" height=\"129\" style=\"margin-left:0px;margin-top:0px;\"></span></span>"
            ],
            "metadata": {
                "azdata_cell_guid": "e78943c9-adb2-4d0c-ab66-8f9c74c05cdd"
            },
            "attachments": {}
        },
        {
            "cell_type": "code",
            "source": [
                "USE [DESAFIO]\r\n",
                "GO\r\n",
                "IF NOT EXISTS\r\n",
                "  (SELECT * FROM sysobjects WHERE name='VENDAS' AND xtype='U')\r\n",
                "\r\n",
                "CREATE TABLE VENDAS\r\n",
                "(\r\n",
                "\tnum_vend INT PRIMARY KEY IDENTITY(1,1) NOT NULL,\r\n",
                "\tdata_ven DATETIME,\r\n",
                "\tid_cliente INT NOT NULL,\r\n",
                "\tid_vended INT NOT NULL,\r\n",
                "\tstatus_venda CHAR(1),\r\n",
                "\tFOREIGN KEY(id_cliente) REFERENCES cliente(id_cliente),\r\n",
                "\tFOREIGN KEY(id_vended) REFERENCES vendedores(id_vendedor)\r\n",
                "\t);"
            ],
            "metadata": {
                "azdata_cell_guid": "998c0574-3f60-4525-b0f2-1edab0aba963",
                "tags": []
            },
            "outputs": [
                {
                    "output_type": "display_data",
                    "data": {
                        "text/html": "Commands completed successfully."
                    },
                    "metadata": {}
                },
                {
                    "output_type": "display_data",
                    "data": {
                        "text/html": "Commands completed successfully."
                    },
                    "metadata": {}
                },
                {
                    "output_type": "display_data",
                    "data": {
                        "text/html": "Total execution time: 00:00:00.020"
                    },
                    "metadata": {}
                }
            ],
            "execution_count": 4
        },
        {
            "cell_type": "markdown",
            "source": [
                "**CRIANDO A TABELA UNIDADE**\n",
                "\n",
                "<span style=\"font-size: 12pt; font-family: Arial; color: rgb(0, 0, 0); background-color: transparent; font-variant-numeric: normal; font-variant-east-asian: normal; vertical-align: baseline; white-space: pre-wrap;\"><span style=\"border:none;display:inline-block;overflow:hidden;width:231px;height:91px;\"><img src=\"https://lh3.googleusercontent.com/ur_XP-zJ5izm4LYA4os83gfQMzxEa7D8CNNaJkMPEX-7mvmwaYlRIDozGgWeNdXOxAFWuIyiAjbDNF2xca9iraKfhBzmkCrmJ1o8QMMrNTzyBpEYPHOyvsxiWaflrkFcrQF4Jd3y\" width=\"231\" height=\"91\" style=\"margin-left:0px;margin-top:0px;\"></span></span>"
            ],
            "metadata": {
                "azdata_cell_guid": "a0980e61-7f54-4985-993f-27c482dbe184"
            },
            "attachments": {}
        },
        {
            "cell_type": "code",
            "source": [
                "USE [DESAFIO]\r\n",
                "GO\r\n",
                "IF NOT EXISTS\r\n",
                "  (SELECT * FROM sysobjects WHERE name='UNIDADE' AND xtype='U')\r\n",
                "\r\n",
                "CREATE TABLE UNIDADE\r\n",
                "(\r\n",
                "\tid_unidade VARCHAR(3) PRIMARY KEY NOT NULL,\r\n",
                "\tdesc_unidade VARCHAR(25)\r\n",
                "\t);"
            ],
            "metadata": {
                "azdata_cell_guid": "e157f90e-5f32-4b84-b667-068c7383a5d0"
            },
            "outputs": [
                {
                    "output_type": "display_data",
                    "data": {
                        "text/html": "Commands completed successfully."
                    },
                    "metadata": {}
                },
                {
                    "output_type": "display_data",
                    "data": {
                        "text/html": "Commands completed successfully."
                    },
                    "metadata": {}
                },
                {
                    "output_type": "display_data",
                    "data": {
                        "text/html": "Total execution time: 00:00:00.019"
                    },
                    "metadata": {}
                }
            ],
            "execution_count": 5
        },
        {
            "cell_type": "markdown",
            "source": [
                "**CRIANDO A TABELA CATEGORIA**\n",
                "\n",
                "<span style=\"font-size: 12pt; font-family: Arial; color: rgb(0, 0, 0); background-color: transparent; font-variant-numeric: normal; font-variant-east-asian: normal; vertical-align: baseline; white-space: pre-wrap;\"><span style=\"border:none;display:inline-block;overflow:hidden;width:228px;height:85px;\"><img src=\"https://lh4.googleusercontent.com/eZlA7qC7_z1SX2G_J3oatrPwMM6izpjNKDHC72qS1dTD2_j93j6cYXajZq8eNq2ZPBMNPGzC3zWaPk4HhE4Ktems9FL2QsviAI8PII8cX_h3KIvKrshtIGX1VsjWtYgI531MJcre\" width=\"228\" height=\"85\" style=\"margin-left:0px;margin-top:0px;\"></span></span>"
            ],
            "metadata": {
                "azdata_cell_guid": "ce1106c0-b294-42ab-9b70-ad1abb815613"
            },
            "attachments": {}
        },
        {
            "cell_type": "code",
            "source": [
                "USE [DESAFIO]\r\n",
                "GO\r\n",
                "IF NOT EXISTS\r\n",
                "  (SELECT * FROM sysobjects WHERE name='CATEGORIA' AND xtype='U')\r\n",
                "\r\n",
                "CREATE TABLE CATEGORIA\r\n",
                "(\r\n",
                "\tid_categoria INT PRIMARY KEY IDENTITY(1,1) NOT NULL,\r\n",
                "\tnome_categor VARCHAR(25)\r\n",
                "\t);"
            ],
            "metadata": {
                "azdata_cell_guid": "8538d251-7a04-49f5-97b5-ed6dc34a8722"
            },
            "outputs": [
                {
                    "output_type": "display_data",
                    "data": {
                        "text/html": "Commands completed successfully."
                    },
                    "metadata": {}
                },
                {
                    "output_type": "display_data",
                    "data": {
                        "text/html": "Commands completed successfully."
                    },
                    "metadata": {}
                },
                {
                    "output_type": "display_data",
                    "data": {
                        "text/html": "Total execution time: 00:00:00.013"
                    },
                    "metadata": {}
                }
            ],
            "execution_count": 6
        },
        {
            "cell_type": "markdown",
            "source": [
                "**CRIANDO A TABELA PRODUTOS**\n",
                "\n",
                "<span style=\"font-size: 12pt; font-family: Arial; color: rgb(0, 0, 0); background-color: transparent; font-variant-numeric: normal; font-variant-east-asian: normal; vertical-align: baseline; white-space: pre-wrap;\"><span style=\"border:none;display:inline-block;overflow:hidden;width:230px;height:129px;\"><img src=\"https://lh4.googleusercontent.com/e4uhO3-0vNOp8J8IbUFI_Pjt1BbJNQGzDNEUgJNvX0fjLjclqZVEVjp3pRdwBCd7W1QLkDIB1nS-evpYlCVfqiutG8yH43FPhfRHr_DiijfqCFZ3bDTR2y33gtRkk5HL0c75RusW\" width=\"230\" height=\"129\" style=\"margin-left:0px;margin-top:0px;\"></span></span>"
            ],
            "metadata": {
                "azdata_cell_guid": "315b8046-4f5a-470c-8d15-d4a1cbc40833"
            },
            "attachments": {}
        },
        {
            "cell_type": "code",
            "source": [
                "USE [DESAFIO]\r\n",
                "GO\r\n",
                "IF NOT EXISTS\r\n",
                "  (SELECT * FROM sysobjects WHERE name='PRODUTOS' AND xtype='U')\r\n",
                "\r\n",
                "CREATE TABLE PRODUTOS\r\n",
                "(\r\n",
                "\tid_prod INT PRIMARY KEY IDENTITY(1,1) NOT NULL,\r\n",
                "\tnome_prod VARCHAR(50) NOT NULL,\r\n",
                "\tid_categoria INT NOT NULL,\r\n",
                "\tid_unidade VARCHAR(3) NOT NULL,\r\n",
                "\tpreco DECIMAL(10, 2) NOT NULL,\r\n",
                "\tFOREIGN KEY(id_categoria) REFERENCES categoria(id_categoria),\r\n",
                "\tFOREIGN KEY(id_unidade) REFERENCES unidade(id_unidade)\r\n",
                "\t);"
            ],
            "metadata": {
                "azdata_cell_guid": "fabc318a-89e4-4a8c-b1ca-f04d21949f83"
            },
            "outputs": [
                {
                    "output_type": "display_data",
                    "data": {
                        "text/html": "Commands completed successfully."
                    },
                    "metadata": {}
                },
                {
                    "output_type": "display_data",
                    "data": {
                        "text/html": "Commands completed successfully."
                    },
                    "metadata": {}
                },
                {
                    "output_type": "display_data",
                    "data": {
                        "text/html": "Total execution time: 00:00:00.021"
                    },
                    "metadata": {}
                }
            ],
            "execution_count": 7
        },
        {
            "cell_type": "markdown",
            "source": [
                "**CRIANDO A TABELA VENDA\\_ITENS**\n",
                "\n",
                "<span style=\"font-size: 12pt; font-family: Arial; color: rgb(0, 0, 0); background-color: transparent; font-variant-numeric: normal; font-variant-east-asian: normal; vertical-align: baseline; white-space: pre-wrap;\"><span style=\"border:none;display:inline-block;overflow:hidden;width:222px;height:147px;\"><img src=\"https://lh3.googleusercontent.com/rByEZRPr4-b8PR4tsdW4VnoW8SMsiSfF1LyAiklSmAElOzzWTwzWkMeiYGAM17Pk2GNXKEFGRNvwPr-gkmtEyQ2kKzAOjkCarBZWfMn0OyqIj7kRhthpAievkSSf8zsG5am843oO\" width=\"222\" height=\"147\" style=\"margin-left:0px;margin-top:0px;\"></span></span>"
            ],
            "metadata": {
                "azdata_cell_guid": "edc98c35-99cf-4820-9fdc-a4fbd84a9e58"
            },
            "attachments": {}
        },
        {
            "cell_type": "code",
            "source": [
                "USE [DESAFIO]\r\n",
                "GO\r\n",
                "IF NOT EXISTS\r\n",
                "  (SELECT * FROM sysobjects WHERE name='VENDA_ITENS' AND xtype='U')\r\n",
                "\r\n",
                "CREATE TABLE VENDA_ITENS\r\n",
                "(\r\n",
                "\tnum_vend INT PRIMARY KEY NOT NULL,\r\n",
                "\tnum_se INT UNIQUE IDENTITY(1,1) NOT NULL,\r\n",
                "\tid_prod INT NOT NULL,\r\n",
                "\tqtde DECIMAL(10, 2) NOT NULL,\r\n",
                "\tval_uni DECIMAL(10, 2) NOT NULL,\r\n",
                "\tval_tot DECIMAL(10, 2),\r\n",
                "\tFOREIGN KEY(num_vend) REFERENCES vendas(num_vend),\r\n",
                "\tFOREIGN KEY(id_prod) REFERENCES produtos(id_prod)\r\n",
                "\t);"
            ],
            "metadata": {
                "azdata_cell_guid": "ca291c3e-7bea-4c53-98cb-18f6a0a26655"
            },
            "outputs": [
                {
                    "output_type": "display_data",
                    "data": {
                        "text/html": "Commands completed successfully."
                    },
                    "metadata": {}
                },
                {
                    "output_type": "display_data",
                    "data": {
                        "text/html": "Commands completed successfully."
                    },
                    "metadata": {}
                },
                {
                    "output_type": "display_data",
                    "data": {
                        "text/html": "Total execution time: 00:00:00.020"
                    },
                    "metadata": {}
                }
            ],
            "execution_count": 8
        }
    ]
}