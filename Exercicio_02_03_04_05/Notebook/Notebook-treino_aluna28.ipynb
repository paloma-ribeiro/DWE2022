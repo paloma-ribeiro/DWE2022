{
    "metadata": {
        "kernelspec": {
            "name": "SQL",
            "display_name": "SQL",
            "language": "sql"
        },
        "language_info": {
            "name": "sql",
            "version": ""
        }
    },
    "nbformat_minor": 2,
    "nbformat": 4,
    "cells": [
        {
            "cell_type": "markdown",
            "source": [
                "<span style=\"color: rgb(0, 0, 0); font-family: Arial; font-size: 16px; font-weight: 700; white-space: pre-wrap;\">CHALLENGE DWE 2022 - ALUNA 28 - PALOMA RIBEIRO</span>"
            ],
            "metadata": {
                "azdata_cell_guid": "a6c9faa3-f224-44a6-9824-38090bc83297"
            },
            "attachments": {}
        },
        {
            "cell_type": "markdown",
            "source": [
                "**EXERCÍCIO 2**\n",
                "\n",
                "  \n",
                "\n",
                "Restaurar o arquivo treino.bak(localmente) para criar um banco de dados treino (versão SQL 2017 ou superior).  \n",
                "\n",
                "  \n",
                "\n",
                "**OBS:** a restauração foi efetuada com sucesso, através do Microsoft SQL Server Management Studio."
            ],
            "metadata": {
                "azdata_cell_guid": "4793f687-49e8-4836-908b-1ce2eb9496bf"
            },
            "attachments": {}
        },
        {
            "cell_type": "markdown",
            "source": [
                "**EXERCÍCIO 3**\n",
                "\n",
                "Liste todos os clientes com seus nomes e com suas respectivas cidades e estados."
            ],
            "metadata": {
                "azdata_cell_guid": "65aea94d-6bf4-4dde-8f01-bdd8df9716ca"
            },
            "attachments": {}
        },
        {
            "cell_type": "code",
            "source": [
                "USE [TREINO]\r\n",
                "GO\r\n",
                "\r\n",
                "SELECT \r\n",
                "\tCLIENTE.NOME_CLIENTE,\r\n",
                "\tCIDADE.NOME_CIDADE,\r\n",
                "\tCIDADE.UF\r\n",
                "FROM\r\n",
                "\tCLIENTE\r\n",
                "INNER JOIN\r\n",
                "\tCIDADE ON CLIENTE.ID_CIDADE = CIDADE.ID_CIDADE"
            ],
            "metadata": {
                "azdata_cell_guid": "123a0da4-25e3-4b83-a0c0-3ea4f92a9d62"
            },
            "outputs": [
                {
                    "output_type": "display_data",
                    "data": {
                        "text/html": "Commands completed successfully."
                    },
                    "metadata": {}
                },
                {
                    "output_type": "display_data",
                    "data": {
                        "text/html": "(10 rows affected)"
                    },
                    "metadata": {}
                },
                {
                    "output_type": "display_data",
                    "data": {
                        "text/html": "Total execution time: 00:00:00.030"
                    },
                    "metadata": {}
                },
                {
                    "output_type": "execute_result",
                    "metadata": {},
                    "execution_count": 2,
                    "data": {
                        "application/vnd.dataresource+json": {
                            "schema": {
                                "fields": [
                                    {
                                        "name": "NOME_CLIENTE"
                                    },
                                    {
                                        "name": "NOME_CIDADE"
                                    },
                                    {
                                        "name": "UF"
                                    }
                                ]
                            },
                            "data": [
                                {
                                    "0": "Rede Atacado",
                                    "1": "Rio de Janeiro",
                                    "2": "RJ"
                                },
                                {
                                    "0": "Rede MercoSul",
                                    "1": "Niterói",
                                    "2": "RJ"
                                },
                                {
                                    "0": "Lojas Vitoria",
                                    "1": "Volta Redonda",
                                    "2": "RJ"
                                },
                                {
                                    "0": "Hiper Giga",
                                    "1": "São Paulo",
                                    "2": "SP"
                                },
                                {
                                    "0": "Giga 10",
                                    "1": "Campinas",
                                    "2": "SP"
                                },
                                {
                                    "0": "Lojas Mega",
                                    "1": "Jundiai",
                                    "2": "SP"
                                },
                                {
                                    "0": "Super Tera",
                                    "1": "Rio de Janeiro",
                                    "2": "RJ"
                                },
                                {
                                    "0": "Rede mais",
                                    "1": "Niterói",
                                    "2": "RJ"
                                },
                                {
                                    "0": "Lojas Plus",
                                    "1": "Volta Redonda",
                                    "2": "RJ"
                                },
                                {
                                    "0": "Hiper Sempre",
                                    "1": "São Paulo",
                                    "2": "SP"
                                }
                            ]
                        },
                        "text/html": [
                            "<table>",
                            "<tr><th>NOME_CLIENTE</th><th>NOME_CIDADE</th><th>UF</th></tr>",
                            "<tr><td>Rede Atacado</td><td>Rio de Janeiro</td><td>RJ</td></tr>",
                            "<tr><td>Rede MercoSul</td><td>Niterói</td><td>RJ</td></tr>",
                            "<tr><td>Lojas Vitoria</td><td>Volta Redonda</td><td>RJ</td></tr>",
                            "<tr><td>Hiper Giga</td><td>São Paulo</td><td>SP</td></tr>",
                            "<tr><td>Giga 10</td><td>Campinas</td><td>SP</td></tr>",
                            "<tr><td>Lojas Mega</td><td>Jundiai</td><td>SP</td></tr>",
                            "<tr><td>Super Tera</td><td>Rio de Janeiro</td><td>RJ</td></tr>",
                            "<tr><td>Rede mais</td><td>Niterói</td><td>RJ</td></tr>",
                            "<tr><td>Lojas Plus</td><td>Volta Redonda</td><td>RJ</td></tr>",
                            "<tr><td>Hiper Sempre</td><td>São Paulo</td><td>SP</td></tr>",
                            "</table>"
                        ]
                    }
                }
            ],
            "execution_count": 2
        },
        {
            "cell_type": "markdown",
            "source": [
                "**EXERCÍCIO 4**\n",
                "\n",
                "Liste o código do produto, descrição do produto e a descrição das categorias dos produtos que tenham o valor unitário na faixa de R$ 10,00 a R$ 1500,00"
            ],
            "metadata": {
                "azdata_cell_guid": "59af1189-de09-483b-b483-9e1ee65e880f"
            },
            "attachments": {}
        },
        {
            "cell_type": "code",
            "source": [
                "USE [TREINO]\r\n",
                "GO\r\n",
                "\r\n",
                "SELECT\r\n",
                "\tPRODUTOS.ID_PROD,\r\n",
                "\tPRODUTOS.NOME_PRODUTO,\r\n",
                "\tCATEGORIA.NOME_CATEGORIA\r\n",
                "FROM\r\n",
                "\tPRODUTOS\r\n",
                "INNER JOIN\r\n",
                "\tCATEGORIA ON CATEGORIA.ID_CATEGORIA = PRODUTOS.ID_CATEGORIA\r\n",
                "WHERE\r\n",
                "\tPRODUTOS.PRECO >= 10.00 AND\r\n",
                "\tPRODUTOS.PRECO <= 1500.00"
            ],
            "metadata": {
                "azdata_cell_guid": "8661434c-4988-4826-b91f-e87591814b7b"
            },
            "outputs": [
                {
                    "output_type": "display_data",
                    "data": {
                        "text/html": "Commands completed successfully."
                    },
                    "metadata": {}
                },
                {
                    "output_type": "display_data",
                    "data": {
                        "text/html": "(12 rows affected)"
                    },
                    "metadata": {}
                },
                {
                    "output_type": "display_data",
                    "data": {
                        "text/html": "Total execution time: 00:00:00.043"
                    },
                    "metadata": {}
                },
                {
                    "output_type": "execute_result",
                    "metadata": {},
                    "execution_count": 3,
                    "data": {
                        "application/vnd.dataresource+json": {
                            "schema": {
                                "fields": [
                                    {
                                        "name": "ID_PROD"
                                    },
                                    {
                                        "name": "NOME_PRODUTO"
                                    },
                                    {
                                        "name": "NOME_CATEGORIA"
                                    }
                                ]
                            },
                            "data": [
                                {
                                    "0": "1",
                                    "1": "HD 500 1 TB",
                                    "2": "Informática"
                                },
                                {
                                    "0": "2",
                                    "1": "Monitor 17",
                                    "2": "Informática"
                                },
                                {
                                    "0": "3",
                                    "1": "Monitor 15",
                                    "2": "Informática"
                                },
                                {
                                    "0": "4",
                                    "1": "HD SSD 250 GB",
                                    "2": "Informática"
                                },
                                {
                                    "0": "5",
                                    "1": "Teclado",
                                    "2": "Informática"
                                },
                                {
                                    "0": "9",
                                    "1": "TV Plasma 32",
                                    "2": "TV´s"
                                },
                                {
                                    "0": "10",
                                    "1": "Fogao",
                                    "2": "Utilidades do Lar"
                                },
                                {
                                    "0": "11",
                                    "1": "Mixer",
                                    "2": "Eletrodomesticos"
                                },
                                {
                                    "0": "12",
                                    "1": "Batedeira",
                                    "2": "Eletrodomesticos"
                                },
                                {
                                    "0": "13",
                                    "1": "Liquidificador",
                                    "2": "Eletrodomesticos"
                                },
                                {
                                    "0": "14",
                                    "1": "Geladeira",
                                    "2": "Eletrodomesticos"
                                },
                                {
                                    "0": "15",
                                    "1": "Aspirador de pó",
                                    "2": "Utilidades do Lar"
                                }
                            ]
                        },
                        "text/html": [
                            "<table>",
                            "<tr><th>ID_PROD</th><th>NOME_PRODUTO</th><th>NOME_CATEGORIA</th></tr>",
                            "<tr><td>1</td><td>HD 500 1 TB</td><td>Informática</td></tr>",
                            "<tr><td>2</td><td>Monitor 17</td><td>Informática</td></tr>",
                            "<tr><td>3</td><td>Monitor 15</td><td>Informática</td></tr>",
                            "<tr><td>4</td><td>HD SSD 250 GB</td><td>Informática</td></tr>",
                            "<tr><td>5</td><td>Teclado</td><td>Informática</td></tr>",
                            "<tr><td>9</td><td>TV Plasma 32</td><td>TV´s</td></tr>",
                            "<tr><td>10</td><td>Fogao</td><td>Utilidades do Lar</td></tr>",
                            "<tr><td>11</td><td>Mixer</td><td>Eletrodomesticos</td></tr>",
                            "<tr><td>12</td><td>Batedeira</td><td>Eletrodomesticos</td></tr>",
                            "<tr><td>13</td><td>Liquidificador</td><td>Eletrodomesticos</td></tr>",
                            "<tr><td>14</td><td>Geladeira</td><td>Eletrodomesticos</td></tr>",
                            "<tr><td>15</td><td>Aspirador de pó</td><td>Utilidades do Lar</td></tr>",
                            "</table>"
                        ]
                    }
                }
            ],
            "execution_count": 3
        },
        {
            "cell_type": "markdown",
            "source": [
                "**EXERCÍCIO 5**\n",
                "\n",
                "  \n",
                "\n",
                "Liste o código do produto, descrição do produto e descrição da categoria dos produtos, e também apresente uma coluna condicional com o nome de \"faixa de preço\".\n",
                "\n",
                "  \n",
                "\n",
                "Com os seguintes critérios: \n",
                "\n",
                "- preço\\< 500 : valor condicional será igual \"preço abaixo de 500\".\n",
                "- preço \\>= 500 e \\<=1000 valor condicional será igual \"preço entre 500 e 1000\". \n",
                "- preço \\> 1000 : valor condicional será igual \"preço acima de 1000\"."
            ],
            "metadata": {
                "azdata_cell_guid": "3c1c8408-68fd-4ee0-b9a8-5ab4646e75d1"
            },
            "attachments": {}
        },
        {
            "cell_type": "code",
            "source": [
                "USE [TREINO]\r\n",
                "GO\r\n",
                "\r\n",
                "SELECT \r\n",
                "\tPRODUTOS.ID_PROD,\r\n",
                "\tPRODUTOS.NOME_PRODUTO,\r\n",
                "\tCATEGORIA.NOME_CATEGORIA,\r\n",
                "CASE \r\n",
                "\tWHEN PRODUTOS.PRECO < 500 THEN 'preço abaixo de 500'\r\n",
                "\tWHEN PRODUTOS.PRECO >= 500 AND PRODUTOS.PRECO <= 1000 THEN 'preço entre 500 e 1000'\r\n",
                "\tELSE 'preço acima de 1000'\r\n",
                "END AS FAIXA_PRECO\r\n",
                "FROM\r\n",
                "\tPRODUTOS\r\n",
                "INNER JOIN\r\n",
                "\tCATEGORIA ON CATEGORIA.ID_CATEGORIA = PRODUTOS.ID_CATEGORIA"
            ],
            "metadata": {
                "azdata_cell_guid": "79041cf5-1865-4ac8-a1cd-bff53c94b5a3"
            },
            "outputs": [
                {
                    "output_type": "display_data",
                    "data": {
                        "text/html": "Commands completed successfully."
                    },
                    "metadata": {}
                },
                {
                    "output_type": "display_data",
                    "data": {
                        "text/html": "(15 rows affected)"
                    },
                    "metadata": {}
                },
                {
                    "output_type": "display_data",
                    "data": {
                        "text/html": "Total execution time: 00:00:00.057"
                    },
                    "metadata": {}
                },
                {
                    "output_type": "execute_result",
                    "metadata": {},
                    "execution_count": 4,
                    "data": {
                        "application/vnd.dataresource+json": {
                            "schema": {
                                "fields": [
                                    {
                                        "name": "ID_PROD"
                                    },
                                    {
                                        "name": "NOME_PRODUTO"
                                    },
                                    {
                                        "name": "NOME_CATEGORIA"
                                    },
                                    {
                                        "name": "FAIXA_PRECO"
                                    }
                                ]
                            },
                            "data": [
                                {
                                    "0": "1",
                                    "1": "HD 500 1 TB",
                                    "2": "Informática",
                                    "3": "preço abaixo de 500"
                                },
                                {
                                    "0": "2",
                                    "1": "Monitor 17",
                                    "2": "Informática",
                                    "3": "preço entre 500 e 1000"
                                },
                                {
                                    "0": "3",
                                    "1": "Monitor 15",
                                    "2": "Informática",
                                    "3": "preço entre 500 e 1000"
                                },
                                {
                                    "0": "4",
                                    "1": "HD SSD 250 GB",
                                    "2": "Informática",
                                    "3": "preço entre 500 e 1000"
                                },
                                {
                                    "0": "5",
                                    "1": "Teclado",
                                    "2": "Informática",
                                    "3": "preço abaixo de 500"
                                },
                                {
                                    "0": "6",
                                    "1": "TV LED 40",
                                    "2": "TV´s",
                                    "3": "preço acima de 1000"
                                },
                                {
                                    "0": "7",
                                    "1": "TV LCD 40",
                                    "2": "TV´s",
                                    "3": "preço acima de 1000"
                                },
                                {
                                    "0": "8",
                                    "1": "SMART TV 4K 50",
                                    "2": "TV´s",
                                    "3": "preço acima de 1000"
                                },
                                {
                                    "0": "9",
                                    "1": "TV Plasma 32",
                                    "2": "TV´s",
                                    "3": "preço acima de 1000"
                                },
                                {
                                    "0": "10",
                                    "1": "Fogao",
                                    "2": "Utilidades do Lar",
                                    "3": "preço entre 500 e 1000"
                                },
                                {
                                    "0": "11",
                                    "1": "Mixer",
                                    "2": "Eletrodomesticos",
                                    "3": "preço abaixo de 500"
                                },
                                {
                                    "0": "12",
                                    "1": "Batedeira",
                                    "2": "Eletrodomesticos",
                                    "3": "preço abaixo de 500"
                                },
                                {
                                    "0": "13",
                                    "1": "Liquidificador",
                                    "2": "Eletrodomesticos",
                                    "3": "preço abaixo de 500"
                                },
                                {
                                    "0": "14",
                                    "1": "Geladeira",
                                    "2": "Eletrodomesticos",
                                    "3": "preço acima de 1000"
                                },
                                {
                                    "0": "15",
                                    "1": "Aspirador de pó",
                                    "2": "Utilidades do Lar",
                                    "3": "preço abaixo de 500"
                                }
                            ]
                        },
                        "text/html": [
                            "<table>",
                            "<tr><th>ID_PROD</th><th>NOME_PRODUTO</th><th>NOME_CATEGORIA</th><th>FAIXA_PRECO</th></tr>",
                            "<tr><td>1</td><td>HD 500 1 TB</td><td>Informática</td><td>preço abaixo de 500</td></tr>",
                            "<tr><td>2</td><td>Monitor 17</td><td>Informática</td><td>preço entre 500 e 1000</td></tr>",
                            "<tr><td>3</td><td>Monitor 15</td><td>Informática</td><td>preço entre 500 e 1000</td></tr>",
                            "<tr><td>4</td><td>HD SSD 250 GB</td><td>Informática</td><td>preço entre 500 e 1000</td></tr>",
                            "<tr><td>5</td><td>Teclado</td><td>Informática</td><td>preço abaixo de 500</td></tr>",
                            "<tr><td>6</td><td>TV LED 40</td><td>TV´s</td><td>preço acima de 1000</td></tr>",
                            "<tr><td>7</td><td>TV LCD 40</td><td>TV´s</td><td>preço acima de 1000</td></tr>",
                            "<tr><td>8</td><td>SMART TV 4K 50</td><td>TV´s</td><td>preço acima de 1000</td></tr>",
                            "<tr><td>9</td><td>TV Plasma 32</td><td>TV´s</td><td>preço acima de 1000</td></tr>",
                            "<tr><td>10</td><td>Fogao</td><td>Utilidades do Lar</td><td>preço entre 500 e 1000</td></tr>",
                            "<tr><td>11</td><td>Mixer</td><td>Eletrodomesticos</td><td>preço abaixo de 500</td></tr>",
                            "<tr><td>12</td><td>Batedeira</td><td>Eletrodomesticos</td><td>preço abaixo de 500</td></tr>",
                            "<tr><td>13</td><td>Liquidificador</td><td>Eletrodomesticos</td><td>preço abaixo de 500</td></tr>",
                            "<tr><td>14</td><td>Geladeira</td><td>Eletrodomesticos</td><td>preço acima de 1000</td></tr>",
                            "<tr><td>15</td><td>Aspirador de pó</td><td>Utilidades do Lar</td><td>preço abaixo de 500</td></tr>",
                            "</table>"
                        ]
                    }
                }
            ],
            "execution_count": 4
        }
    ]
}