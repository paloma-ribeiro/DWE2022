{
    "metadata": {
        "kernelspec": {
            "name": "SQL",
            "display_name": "SQL",
            "language": "sql"
        },
        "language_info": {
            "name": "sql",
            "version": ""
        }
    },
    "nbformat_minor": 2,
    "nbformat": 4,
    "cells": [
        {
            "cell_type": "markdown",
            "source": [
                "**CRIANDO A DATABASE DW28**"
            ],
            "metadata": {
                "azdata_cell_guid": "f5022484-cca9-45ed-a185-0bca9240fc28"
            },
            "attachments": {}
        },
        {
            "cell_type": "code",
            "source": [
                "CREATE DATABASE DW28"
            ],
            "metadata": {
                "azdata_cell_guid": "3abd9e62-34ba-42a6-a243-a9d75c749e3e"
            },
            "outputs": [],
            "execution_count": null
        },
        {
            "cell_type": "markdown",
            "source": [
                "**CRIANDO UMA TABELA DE LOG**"
            ],
            "metadata": {
                "azdata_cell_guid": "fa0fdcfb-1db5-465d-8726-288c72678d6f"
            },
            "attachments": {}
        },
        {
            "cell_type": "code",
            "source": [
                "USE [DW28]\r\n",
                "GO\r\n",
                "IF NOT EXISTS\r\n",
                "  (SELECT * FROM sysobjects WHERE name='LOG_CARGAS' AND xtype='U')\r\n",
                "\r\n",
                "CREATE TABLE LOG_CARGAS\r\n",
                " (ID INT IDENTITY(1,1) NOT NULL PRIMARY KEY,\r\n",
                " NUMERO_ERRO INT,\r\n",
                " SERVERIDADE_ERRO INT,\r\n",
                " ESTADO_ERRO  INT,\r\n",
                " PROC_ERRO NVARCHAR(255),\r\n",
                " LINHA_ERRO INT,\r\n",
                " MSG_ERRO NVARCHAR(255),\r\n",
                " SITUACAO NVARCHAR(10),\r\n",
                " PROCESSO NVARCHAR(30),\r\n",
                " DATA_INI DATETIME,\r\n",
                " DATA_FIM DATETIME  \r\n",
                " )"
            ],
            "metadata": {
                "azdata_cell_guid": "e4b54f82-b5ff-4f36-967c-58f6df227c1e"
            },
            "outputs": [
                {
                    "output_type": "display_data",
                    "data": {
                        "text/html": "Commands completed successfully."
                    },
                    "metadata": {}
                },
                {
                    "output_type": "display_data",
                    "data": {
                        "text/html": "Commands completed successfully."
                    },
                    "metadata": {}
                },
                {
                    "output_type": "display_data",
                    "data": {
                        "text/html": "Total execution time: 00:00:00.025"
                    },
                    "metadata": {}
                }
            ],
            "execution_count": 63
        },
        {
            "cell_type": "markdown",
            "source": [
                "**CRIANDO TABELA STG\\_VENDAS**"
            ],
            "metadata": {
                "azdata_cell_guid": "184293b3-f3e4-49fc-ae9e-34412bbee682"
            },
            "attachments": {}
        },
        {
            "cell_type": "code",
            "source": [
                "USE [DW28]\r\n",
                "GO\r\n",
                "IF NOT EXISTS\r\n",
                "  (SELECT * FROM sysobjects WHERE name='STG_VENDAS' AND xtype='U')\r\n",
                "CREATE TABLE [dbo].[STG_VENDAS](\r\n",
                "\t[ID_VENDA] [INT] NULL,\r\n",
                "\t[Segmento] [varchar](50) NULL,\r\n",
                "\t[Pais] [varchar](50) NULL,\r\n",
                "\t[Produto] [varchar](50) NULL,\r\n",
                "\t[TipoDesconto] [varchar](50) NULL,\r\n",
                "\t[QtdeVendas] [varchar](50) NULL,\r\n",
                "\t[PrecoCusto] [varchar](50) NULL,\r\n",
                "\t[PrecoVenda] [varchar](50) NULL,\r\n",
                "\t[VendaBruta] [varchar](50) NULL,\r\n",
                "\t[Desconto] [varchar](50) NULL,\r\n",
                "\t[VendaLiquida] [varchar](50) NULL,\r\n",
                "\t[CustoVenda] [varchar](50) NULL,\r\n",
                "\t[Lucro] [varchar](50) NULL,\r\n",
                "\t[DataVenda] [date] NULL,\r\n",
                ") ON [PRIMARY]\r\n",
                "GO"
            ],
            "metadata": {
                "azdata_cell_guid": "c6d34edc-1172-4bcb-af0c-1d9465600f06",
                "tags": []
            },
            "outputs": [
                {
                    "output_type": "display_data",
                    "data": {
                        "text/html": "Commands completed successfully."
                    },
                    "metadata": {}
                },
                {
                    "output_type": "display_data",
                    "data": {
                        "text/html": "Commands completed successfully."
                    },
                    "metadata": {}
                },
                {
                    "output_type": "display_data",
                    "data": {
                        "text/html": "Total execution time: 00:00:00.025"
                    },
                    "metadata": {}
                }
            ],
            "execution_count": 73
        },
        {
            "cell_type": "markdown",
            "source": [
                "**CRIANDO TABELAS DIMENSÕES**"
            ],
            "metadata": {
                "azdata_cell_guid": "5bdaa564-8fb5-4ef1-85f4-290073d09bf9"
            },
            "attachments": {}
        },
        {
            "cell_type": "code",
            "source": [
                "--CRIANDO DIMENSAO D_SEGMENTO\r\n",
                "\r\n",
                "IF NOT EXISTS\r\n",
                "  (SELECT * FROM sysobjects WHERE name='D_SEGMENTO' AND xtype='U')\r\n",
                "CREATE TABLE [dbo].[D_SEGMENTO](\r\n",
                "\t[ID_SEGMENTO] [int] IDENTITY(1,1) NOT NULL,\r\n",
                "\t[SEGMENTO] [varchar](50) NULL,\r\n",
                "PRIMARY KEY CLUSTERED \r\n",
                "(\r\n",
                "\t[ID_SEGMENTO] ASC\r\n",
                ")WITH (PAD_INDEX = OFF, STATISTICS_NORECOMPUTE = OFF, IGNORE_DUP_KEY = OFF, ALLOW_ROW_LOCKS = ON, ALLOW_PAGE_LOCKS = ON, OPTIMIZE_FOR_SEQUENTIAL_KEY = OFF) ON [PRIMARY]\r\n",
                ") ON [PRIMARY]\r\n",
                "GO\r\n",
                "\r\n",
                "--CRIANDO DIMENSAO D_PRODUTO\r\n",
                "\r\n",
                "IF NOT EXISTS\r\n",
                "  (SELECT * FROM sysobjects WHERE name='D_PRODUTO' AND xtype='U')\r\n",
                "CREATE TABLE [dbo].[D_PRODUTO](\r\n",
                "\t[ID_PRODUTO] [int] IDENTITY(1,1) NOT NULL,\r\n",
                "\t[PRODUTO] [varchar](50) NULL,\r\n",
                "PRIMARY KEY CLUSTERED \r\n",
                "(\r\n",
                "\t[ID_PRODUTO] ASC\r\n",
                ")WITH (PAD_INDEX = OFF, STATISTICS_NORECOMPUTE = OFF, IGNORE_DUP_KEY = OFF, ALLOW_ROW_LOCKS = ON, ALLOW_PAGE_LOCKS = ON, OPTIMIZE_FOR_SEQUENTIAL_KEY = OFF) ON [PRIMARY]\r\n",
                ") ON [PRIMARY]\r\n",
                "GO\r\n",
                "\r\n",
                "--CRIANDO DIMENSAO D_PAIS\r\n",
                "\r\n",
                "IF NOT EXISTS\r\n",
                "  (SELECT * FROM sysobjects WHERE name='D_PAIS' AND xtype='U')\r\n",
                "CREATE TABLE [dbo].[D_PAIS](\r\n",
                "\t[ID_PAIS] [int] IDENTITY(1,1) NOT NULL,\r\n",
                "\t[PAIS] [varchar](50) NULL,\r\n",
                "PRIMARY KEY CLUSTERED \r\n",
                "(\r\n",
                "\t[ID_PAIS] ASC\r\n",
                ")WITH (PAD_INDEX = OFF, STATISTICS_NORECOMPUTE = OFF, IGNORE_DUP_KEY = OFF, ALLOW_ROW_LOCKS = ON, ALLOW_PAGE_LOCKS = ON, OPTIMIZE_FOR_SEQUENTIAL_KEY = OFF) ON [PRIMARY]\r\n",
                ") ON [PRIMARY]\r\n",
                "GO\r\n",
                "\r\n",
                "--CRIANDO DIMENSAO D_TipoDesconto\r\n",
                "\r\n",
                "IF NOT EXISTS\r\n",
                "  (SELECT * FROM sysobjects WHERE name='D_TipoDesconto' AND xtype='U')\r\n",
                "CREATE TABLE [dbo].[D_TipoDesconto](\r\n",
                "\t[ID_TipoDesconto] [int] IDENTITY(1,1) NOT NULL,\r\n",
                "\t[TipoDesconto] [varchar](50) NULL,\r\n",
                "PRIMARY KEY CLUSTERED \r\n",
                "(\r\n",
                "\t[ID_TipoDesconto] ASC\r\n",
                ")WITH (PAD_INDEX = OFF, STATISTICS_NORECOMPUTE = OFF, IGNORE_DUP_KEY = OFF, ALLOW_ROW_LOCKS = ON, ALLOW_PAGE_LOCKS = ON, OPTIMIZE_FOR_SEQUENTIAL_KEY = OFF) ON [PRIMARY]\r\n",
                ") ON [PRIMARY]\r\n",
                "GO"
            ],
            "metadata": {
                "azdata_cell_guid": "1552c487-4c67-412f-b100-c3ea9878ef9f"
            },
            "outputs": [
                {
                    "output_type": "display_data",
                    "data": {
                        "text/html": "Commands completed successfully."
                    },
                    "metadata": {}
                },
                {
                    "output_type": "display_data",
                    "data": {
                        "text/html": "Commands completed successfully."
                    },
                    "metadata": {}
                },
                {
                    "output_type": "display_data",
                    "data": {
                        "text/html": "Commands completed successfully."
                    },
                    "metadata": {}
                },
                {
                    "output_type": "display_data",
                    "data": {
                        "text/html": "Commands completed successfully."
                    },
                    "metadata": {}
                },
                {
                    "output_type": "display_data",
                    "data": {
                        "text/html": "Total execution time: 00:00:00.054"
                    },
                    "metadata": {}
                }
            ],
            "execution_count": 65
        },
        {
            "cell_type": "markdown",
            "source": [
                "**CRIANDO TABELA FATO**"
            ],
            "metadata": {
                "azdata_cell_guid": "77f42128-6ba7-4d9a-8267-970115a58bea"
            },
            "attachments": {}
        },
        {
            "cell_type": "code",
            "source": [
                "--CRIANDO TABELA FATO_VENDA\r\n",
                "\r\n",
                "IF NOT EXISTS\r\n",
                "  (SELECT * FROM sysobjects WHERE name='FATO_VENDA' AND xtype='U')\r\n",
                "CREATE TABLE FATO_VENDA\r\n",
                "(\r\n",
                "ID_VENDA  [int] PRIMARY KEY NOT NULL,\r\n",
                "ID_PAIS  [int] NULL,\r\n",
                "ID_PRODUTO  [int] NULL,\r\n",
                "ID_SEGMENTO  [int] NULL,\r\n",
                "ID_TipoDesconto  [int] NULL,\r\n",
                "DataVenda  DATE,\r\n",
                "PrecoCusto  DECIMAL(10,2) NULL,\r\n",
                "QtdeVendas  DECIMAL(10,2) NULL,\r\n",
                "CustoVenda  DECIMAL(10,2) NULL,\r\n",
                "Desconto DECIMAL(10,2) NULL,\r\n",
                "Lucro DECIMAL(10,2) NULL,\r\n",
                "PrecoVenda DECIMAL(10,2) NULL,\r\n",
                "VendaBruta DECIMAL(10,2) NULL,\r\n",
                "VendaLiquida DECIMAL(10,2) NULL\r\n",
                ")"
            ],
            "metadata": {
                "azdata_cell_guid": "c3070c50-d6be-4ff4-a9a1-967038ef574e"
            },
            "outputs": [
                {
                    "output_type": "display_data",
                    "data": {
                        "text/html": "Commands completed successfully."
                    },
                    "metadata": {}
                },
                {
                    "output_type": "display_data",
                    "data": {
                        "text/html": "Total execution time: 00:00:00.018"
                    },
                    "metadata": {}
                }
            ],
            "execution_count": 66
        },
        {
            "cell_type": "markdown",
            "source": [
                "**TRUNCANDO OS DADOS DA TABELA**"
            ],
            "metadata": {
                "azdata_cell_guid": "b792a02a-d83c-419e-a4a0-da842a15aa8a"
            },
            "attachments": {}
        },
        {
            "cell_type": "code",
            "source": [
                "TRUNCATE TABLE STG_VENDAS"
            ],
            "metadata": {
                "azdata_cell_guid": "68f9015b-8044-4b22-8926-90c63dbc3d51"
            },
            "outputs": [
                {
                    "output_type": "display_data",
                    "data": {
                        "text/html": "Commands completed successfully."
                    },
                    "metadata": {}
                },
                {
                    "output_type": "display_data",
                    "data": {
                        "text/html": "Total execution time: 00:00:00.035"
                    },
                    "metadata": {}
                }
            ],
            "execution_count": 1
        },
        {
            "cell_type": "markdown",
            "source": [
                "**CARREGANDO DADOS NA TABELA STAGING COM BULK INSERT**"
            ],
            "metadata": {
                "azdata_cell_guid": "11e983fd-03e2-4b9a-9f9f-b26cf3004bed"
            },
            "attachments": {}
        },
        {
            "cell_type": "code",
            "source": [
                "BEGIN TRANSACTION;  \r\n",
                "\tDECLARE @VDATA_INI DATETIME;\r\n",
                "\tSET @VDATA_INI= GETDATE();\r\n",
                "BEGIN TRY  \r\n",
                "\r\n",
                "BULK INSERT STG_VENDAS\r\n",
                "FROM 'C:\\DWE2022\\Desafio_aluna28\\Exercicio_06\\BW-Desafio\\BaseDadosDesafio.csv'\r\n",
                "WITH        (\r\n",
                "\tcodepage='65001',  -- { 'ACP' | 'OEM' | 'RAW' | 'code_page' } ] 65001\r\n",
                "    DATAFILETYPE = 'char',   --      { 'char' | 'native'| 'widechar' | 'widenative' } ]         \r\n",
                "\tfieldterminator=';',               \r\n",
                "\trowterminator='\\n',               \r\n",
                "\tmaxerrors = 0,               \r\n",
                "\tfire_triggers,             \r\n",
                "    firstrow = 2            \r\n",
                "\t     ) \r\n",
                "END TRY  \r\n",
                "BEGIN CATCH\r\n",
                " \tIF @@TRANCOUNT > 0  \r\n",
                "        ROLLBACK TRANSACTION; \r\n",
                "\r\n",
                "INSERT INTO [dbo].[LOG_CARGAS]\r\n",
                "           ([NUMERO_ERRO],\r\n",
                "           [SERVERIDADE_ERRO],\r\n",
                "           [ESTADO_ERRO],\r\n",
                "           [PROC_ERRO],\r\n",
                "           [LINHA_ERRO],\r\n",
                "           [MSG_ERRO],\r\n",
                "           [SITUACAO],\r\n",
                "           [PROCESSO],\r\n",
                "           [DATA_INI],\r\n",
                "\t\t   [DATA_FIM])\r\n",
                "     VALUES\r\n",
                "        (ERROR_NUMBER(),\r\n",
                "        ERROR_SEVERITY(),\r\n",
                "        ERROR_STATE(),\r\n",
                "        ERROR_PROCEDURE(),\r\n",
                "        ERROR_LINE() ,\r\n",
                "        ERROR_MESSAGE() ,\r\n",
                "        'ERRO',\r\n",
                "        'CARGA BULK STG',\r\n",
                "\t\t@VDATA_INI,\r\n",
                "\t\tGETDATE()\r\n",
                "\t\t)\r\n",
                "\r\n",
                "        \r\n",
                "END CATCH;  \r\n",
                "\r\n",
                "INSERT INTO LOG_CARGAS\r\n",
                "           ([NUMERO_ERRO],\r\n",
                "           [SERVERIDADE_ERRO],\r\n",
                "           [ESTADO_ERRO],\r\n",
                "           [PROC_ERRO],\r\n",
                "           [LINHA_ERRO],\r\n",
                "           [MSG_ERRO],\r\n",
                "           [SITUACAO],\r\n",
                "           [PROCESSO],\r\n",
                "           [DATA_INI],\r\n",
                "\t\t   [DATA_FIM])\r\n",
                "     VALUES\r\n",
                "        (ERROR_NUMBER(),\r\n",
                "        ERROR_SEVERITY(),\r\n",
                "        ERROR_STATE(),\r\n",
                "        ERROR_PROCEDURE(),\r\n",
                "        ERROR_LINE() ,\r\n",
                "        ERROR_MESSAGE() ,\r\n",
                "        'SUCESSO',\r\n",
                "        'CARGA BULK STG',\r\n",
                "\t\t@VDATA_INI,\r\n",
                "\t\tGETDATE()\r\n",
                "\t\t)\r\n",
                "IF @@TRANCOUNT > 0  \r\n",
                "    COMMIT TRANSACTION;  \r\n",
                "GO  "
            ],
            "metadata": {
                "azdata_cell_guid": "a7f4c092-4b50-47f7-81ef-8e2298b329c3",
                "tags": []
            },
            "outputs": [
                {
                    "output_type": "display_data",
                    "data": {
                        "text/html": "(700 rows affected)"
                    },
                    "metadata": {}
                },
                {
                    "output_type": "display_data",
                    "data": {
                        "text/html": "(1 row affected)"
                    },
                    "metadata": {}
                },
                {
                    "output_type": "display_data",
                    "data": {
                        "text/html": "Total execution time: 00:00:00.101"
                    },
                    "metadata": {}
                }
            ],
            "execution_count": 3
        },
        {
            "cell_type": "markdown",
            "source": [
                "**CARGA DIMENSÃO SEGMENTO**"
            ],
            "metadata": {
                "azdata_cell_guid": "f87d4c47-8061-471a-bbab-a36e90b61d2f"
            },
            "attachments": {}
        },
        {
            "cell_type": "code",
            "source": [
                "BEGIN TRANSACTION;  \r\n",
                "   DECLARE @VDATA_INI DATETIME;\r\n",
                "    DECLARE @VPROCESSO VARCHAR(30);\r\n",
                "    SET @VDATA_INI= GETDATE();\r\n",
                "    SET @VPROCESSO= 'CARGA SEGMENTO'\r\n",
                "BEGIN TRY  \r\n",
                "\r\n",
                "\r\n",
                "MERGE D_SEGMENTO AS Destino\r\n",
                "\r\n",
                "USING (SELECT DISTINCT Segmento FROM STG_VENDAS) AS Origem\r\n",
                "\r\n",
                "ON Destino.SEGMENTO = Origem.Segmento\r\n",
                "\r\n",
                "-- Há registro no destino e na origem\r\n",
                "WHEN MATCHED \r\n",
                "\r\n",
                "THEN \r\n",
                "    UPDATE SET SEGMENTO = Origem.Segmento\r\n",
                "\r\n",
                "--Quando não há registro no destino e há na origem\r\n",
                "WHEN NOT MATCHED \r\n",
                "\r\n",
                "THEN \r\n",
                "    INSERT (SEGMENTO) VALUES (Origem.Segmento);\r\n",
                "\r\n",
                " END TRY  \r\n",
                "BEGIN CATCH\r\n",
                "   IF @@TRANCOUNT > 0  \r\n",
                "        ROLLBACK TRANSACTION; \r\n",
                "\r\n",
                "INSERT INTO [dbo].[LOG_CARGAS]\r\n",
                "           ([NUMERO_ERRO],\r\n",
                "           [SERVERIDADE_ERRO],\r\n",
                "           [ESTADO_ERRO],\r\n",
                "           [PROC_ERRO],\r\n",
                "           [LINHA_ERRO],\r\n",
                "           [MSG_ERRO],\r\n",
                "           [SITUACAO],\r\n",
                "           [PROCESSO],\r\n",
                "           [DATA_INI],\r\n",
                "         [DATA_FIM])\r\n",
                "     VALUES\r\n",
                "        (ERROR_NUMBER(),\r\n",
                "        ERROR_SEVERITY(),\r\n",
                "        ERROR_STATE(),\r\n",
                "        ERROR_PROCEDURE(),\r\n",
                "        ERROR_LINE() ,\r\n",
                "        ERROR_MESSAGE() ,\r\n",
                "        'ERRO',\r\n",
                "        @VPROCESSO,\r\n",
                "      @VDATA_INI,\r\n",
                "      GETDATE()\r\n",
                "      )\r\n",
                "\r\n",
                "        \r\n",
                "END CATCH;  \r\n",
                "\r\n",
                "INSERT INTO LOG_CARGAS\r\n",
                "           ([NUMERO_ERRO],\r\n",
                "           [SERVERIDADE_ERRO],\r\n",
                "           [ESTADO_ERRO],\r\n",
                "           [PROC_ERRO],\r\n",
                "           [LINHA_ERRO],\r\n",
                "           [MSG_ERRO],\r\n",
                "           [SITUACAO],\r\n",
                "           [PROCESSO],\r\n",
                "           [DATA_INI],\r\n",
                "         [DATA_FIM])\r\n",
                "     VALUES\r\n",
                "        (ERROR_NUMBER(),\r\n",
                "        ERROR_SEVERITY(),\r\n",
                "        ERROR_STATE(),\r\n",
                "        ERROR_PROCEDURE(),\r\n",
                "        ERROR_LINE() ,\r\n",
                "        ERROR_MESSAGE() ,\r\n",
                "        'SUCESSO',\r\n",
                "        @VPROCESSO,\r\n",
                "      @VDATA_INI,\r\n",
                "      GETDATE()\r\n",
                "      )\r\n",
                "\r\n",
                "IF @@TRANCOUNT > 0  \r\n",
                "    COMMIT TRANSACTION;  \r\n",
                "GO     "
            ],
            "metadata": {
                "azdata_cell_guid": "b1d81875-ad28-4a9f-855e-4da64fed654b"
            },
            "outputs": [
                {
                    "output_type": "display_data",
                    "data": {
                        "text/html": "(5 rows affected)"
                    },
                    "metadata": {}
                },
                {
                    "output_type": "display_data",
                    "data": {
                        "text/html": "(1 row affected)"
                    },
                    "metadata": {}
                },
                {
                    "output_type": "display_data",
                    "data": {
                        "text/html": "Total execution time: 00:00:00.079"
                    },
                    "metadata": {}
                }
            ],
            "execution_count": 4
        },
        {
            "cell_type": "markdown",
            "source": [
                "**CARGA DIMENSÃO PRODUTO**"
            ],
            "metadata": {
                "azdata_cell_guid": "a4d47a0e-c225-4acc-a014-4f83eb0932f1"
            },
            "attachments": {}
        },
        {
            "cell_type": "code",
            "source": [
                "BEGIN TRANSACTION;  \r\n",
                "   DECLARE @VDATA_INI DATETIME;\r\n",
                "    DECLARE @VPROCESSO VARCHAR(30);\r\n",
                "    SET @VDATA_INI= GETDATE();\r\n",
                "    SET @VPROCESSO= 'CARGA PRODUTO'\r\n",
                "BEGIN TRY  \r\n",
                "\r\n",
                "\r\n",
                "MERGE D_PRODUTO AS Destino\r\n",
                "\r\n",
                "USING (SELECT DISTINCT Produto FROM STG_VENDAS) AS Origem\r\n",
                "\r\n",
                "ON Destino.PRODUTO = Origem.Produto\r\n",
                "\r\n",
                "-- Há registro no destino e na origem\r\n",
                "WHEN MATCHED \r\n",
                "\r\n",
                "THEN \r\n",
                "    UPDATE SET PRODUTO = Origem.Produto\r\n",
                "\r\n",
                "--Quando não há registro no destino e há na origem\r\n",
                "WHEN NOT MATCHED \r\n",
                "\r\n",
                "THEN \r\n",
                "    INSERT (PRODUTO) VALUES (Origem.Produto);\r\n",
                "\r\n",
                " END TRY  \r\n",
                "BEGIN CATCH\r\n",
                "   IF @@TRANCOUNT > 0  \r\n",
                "        ROLLBACK TRANSACTION; \r\n",
                "\r\n",
                "INSERT INTO [dbo].[LOG_CARGAS]\r\n",
                "           ([NUMERO_ERRO],\r\n",
                "           [SERVERIDADE_ERRO],\r\n",
                "           [ESTADO_ERRO],\r\n",
                "           [PROC_ERRO],\r\n",
                "           [LINHA_ERRO],\r\n",
                "           [MSG_ERRO],\r\n",
                "           [SITUACAO],\r\n",
                "           [PROCESSO],\r\n",
                "           [DATA_INI],\r\n",
                "         [DATA_FIM])\r\n",
                "     VALUES\r\n",
                "        (ERROR_NUMBER(),\r\n",
                "        ERROR_SEVERITY(),\r\n",
                "        ERROR_STATE(),\r\n",
                "        ERROR_PROCEDURE(),\r\n",
                "        ERROR_LINE() ,\r\n",
                "        ERROR_MESSAGE() ,\r\n",
                "        'ERRO',\r\n",
                "        @VPROCESSO,\r\n",
                "      @VDATA_INI,\r\n",
                "      GETDATE()\r\n",
                "      )\r\n",
                "\r\n",
                "        \r\n",
                "END CATCH;  \r\n",
                "\r\n",
                "INSERT INTO LOG_CARGAS\r\n",
                "           ([NUMERO_ERRO],\r\n",
                "           [SERVERIDADE_ERRO],\r\n",
                "           [ESTADO_ERRO],\r\n",
                "           [PROC_ERRO],\r\n",
                "           [LINHA_ERRO],\r\n",
                "           [MSG_ERRO],\r\n",
                "           [SITUACAO],\r\n",
                "           [PROCESSO],\r\n",
                "           [DATA_INI],\r\n",
                "         [DATA_FIM])\r\n",
                "     VALUES\r\n",
                "        (ERROR_NUMBER(),\r\n",
                "        ERROR_SEVERITY(),\r\n",
                "        ERROR_STATE(),\r\n",
                "        ERROR_PROCEDURE(),\r\n",
                "        ERROR_LINE() ,\r\n",
                "        ERROR_MESSAGE() ,\r\n",
                "        'SUCESSO',\r\n",
                "        @VPROCESSO,\r\n",
                "      @VDATA_INI,\r\n",
                "      GETDATE()\r\n",
                "      )\r\n",
                "\r\n",
                "IF @@TRANCOUNT > 0  \r\n",
                "    COMMIT TRANSACTION;  \r\n",
                "GO     "
            ],
            "metadata": {
                "azdata_cell_guid": "3bb59d54-5f86-4164-a84e-84e1305f2df7"
            },
            "outputs": [
                {
                    "output_type": "display_data",
                    "data": {
                        "text/html": "(6 rows affected)"
                    },
                    "metadata": {}
                },
                {
                    "output_type": "display_data",
                    "data": {
                        "text/html": "(1 row affected)"
                    },
                    "metadata": {}
                },
                {
                    "output_type": "display_data",
                    "data": {
                        "text/html": "Total execution time: 00:00:00.073"
                    },
                    "metadata": {}
                }
            ],
            "execution_count": 5
        },
        {
            "cell_type": "markdown",
            "source": [
                "**CARGA DIMENSÃO PAIS**"
            ],
            "metadata": {
                "azdata_cell_guid": "ffbfd088-3313-4b95-a2f8-16efd2754e03"
            },
            "attachments": {}
        },
        {
            "cell_type": "code",
            "source": [
                "BEGIN TRANSACTION;  \r\n",
                "   DECLARE @VDATA_INI DATETIME;\r\n",
                "    DECLARE @VPROCESSO VARCHAR(30);\r\n",
                "    SET @VDATA_INI= GETDATE();\r\n",
                "    SET @VPROCESSO= 'CARGA PAIS'\r\n",
                "BEGIN TRY  \r\n",
                "\r\n",
                "\r\n",
                "MERGE D_PAIS AS Destino\r\n",
                "\r\n",
                "USING (SELECT DISTINCT Pais FROM STG_VENDAS) AS Origem\r\n",
                "\r\n",
                "ON Destino.PAIS = Origem.Pais\r\n",
                "\r\n",
                "-- Há registro no destino e na origem\r\n",
                "WHEN MATCHED \r\n",
                "\r\n",
                "THEN \r\n",
                "    UPDATE SET PAIS = Origem.Pais\r\n",
                "\r\n",
                "--Quando não há registro no destino e há na origem\r\n",
                "WHEN NOT MATCHED \r\n",
                "\r\n",
                "THEN \r\n",
                "    INSERT (PAIS) VALUES (Origem.Pais);\r\n",
                "\r\n",
                " END TRY  \r\n",
                "BEGIN CATCH\r\n",
                "   IF @@TRANCOUNT > 0  \r\n",
                "        ROLLBACK TRANSACTION; \r\n",
                "\r\n",
                "INSERT INTO [dbo].[LOG_CARGAS]\r\n",
                "           ([NUMERO_ERRO],\r\n",
                "           [SERVERIDADE_ERRO],\r\n",
                "           [ESTADO_ERRO],\r\n",
                "           [PROC_ERRO],\r\n",
                "           [LINHA_ERRO],\r\n",
                "           [MSG_ERRO],\r\n",
                "           [SITUACAO],\r\n",
                "           [PROCESSO],\r\n",
                "           [DATA_INI],\r\n",
                "         [DATA_FIM])\r\n",
                "     VALUES\r\n",
                "        (ERROR_NUMBER(),\r\n",
                "        ERROR_SEVERITY(),\r\n",
                "        ERROR_STATE(),\r\n",
                "        ERROR_PROCEDURE(),\r\n",
                "        ERROR_LINE() ,\r\n",
                "        ERROR_MESSAGE() ,\r\n",
                "        'ERRO',\r\n",
                "        @VPROCESSO,\r\n",
                "      @VDATA_INI,\r\n",
                "      GETDATE()\r\n",
                "      )\r\n",
                "\r\n",
                "        \r\n",
                "END CATCH;  \r\n",
                "\r\n",
                "INSERT INTO LOG_CARGAS\r\n",
                "           ([NUMERO_ERRO],\r\n",
                "           [SERVERIDADE_ERRO],\r\n",
                "           [ESTADO_ERRO],\r\n",
                "           [PROC_ERRO],\r\n",
                "           [LINHA_ERRO],\r\n",
                "           [MSG_ERRO],\r\n",
                "           [SITUACAO],\r\n",
                "           [PROCESSO],\r\n",
                "           [DATA_INI],\r\n",
                "         [DATA_FIM])\r\n",
                "     VALUES\r\n",
                "        (ERROR_NUMBER(),\r\n",
                "        ERROR_SEVERITY(),\r\n",
                "        ERROR_STATE(),\r\n",
                "        ERROR_PROCEDURE(),\r\n",
                "        ERROR_LINE() ,\r\n",
                "        ERROR_MESSAGE() ,\r\n",
                "        'SUCESSO',\r\n",
                "        @VPROCESSO,\r\n",
                "      @VDATA_INI,\r\n",
                "      GETDATE()\r\n",
                "      )\r\n",
                "\r\n",
                "IF @@TRANCOUNT > 0  \r\n",
                "    COMMIT TRANSACTION;  \r\n",
                "GO     "
            ],
            "metadata": {
                "azdata_cell_guid": "f6a03f31-e531-4909-81b6-b73b54e45b26"
            },
            "outputs": [
                {
                    "output_type": "display_data",
                    "data": {
                        "text/html": "(5 rows affected)"
                    },
                    "metadata": {}
                },
                {
                    "output_type": "display_data",
                    "data": {
                        "text/html": "(1 row affected)"
                    },
                    "metadata": {}
                },
                {
                    "output_type": "display_data",
                    "data": {
                        "text/html": "Total execution time: 00:00:00.067"
                    },
                    "metadata": {}
                }
            ],
            "execution_count": 6
        },
        {
            "cell_type": "markdown",
            "source": [
                "**CARGA DIMENSÃO TIPO DE DESCONTO**"
            ],
            "metadata": {
                "azdata_cell_guid": "fd5f7a9f-2536-4682-87db-9fe914ac9200"
            },
            "attachments": {}
        },
        {
            "cell_type": "code",
            "source": [
                "BEGIN TRANSACTION;  \r\n",
                "   DECLARE @VDATA_INI DATETIME;\r\n",
                "    DECLARE @VPROCESSO VARCHAR(30);\r\n",
                "    SET @VDATA_INI= GETDATE();\r\n",
                "    SET @VPROCESSO= 'CARGA TIPO DESCONTO'\r\n",
                "BEGIN TRY  \r\n",
                "\r\n",
                "\r\n",
                "MERGE D_TipoDesconto AS Destino\r\n",
                "\r\n",
                "USING (SELECT DISTINCT TipoDesconto FROM STG_VENDAS) AS Origem\r\n",
                "\r\n",
                "ON Destino.TipoDesconto = Origem.TipoDesconto\r\n",
                "\r\n",
                "-- Há registro no destino e na origem\r\n",
                "WHEN MATCHED \r\n",
                "\r\n",
                "THEN \r\n",
                "    UPDATE SET TipoDesconto = Origem.TipoDesconto\r\n",
                "\r\n",
                "--Quando não há registro no destino e há na origem\r\n",
                "WHEN NOT MATCHED \r\n",
                "\r\n",
                "THEN \r\n",
                "    INSERT (TipoDesconto) VALUES (Origem.TipoDesconto);\r\n",
                "\r\n",
                " END TRY  \r\n",
                "BEGIN CATCH\r\n",
                "   IF @@TRANCOUNT > 0  \r\n",
                "        ROLLBACK TRANSACTION; \r\n",
                "\r\n",
                "INSERT INTO [dbo].[LOG_CARGAS]\r\n",
                "           ([NUMERO_ERRO],\r\n",
                "           [SERVERIDADE_ERRO],\r\n",
                "           [ESTADO_ERRO],\r\n",
                "           [PROC_ERRO],\r\n",
                "           [LINHA_ERRO],\r\n",
                "           [MSG_ERRO],\r\n",
                "           [SITUACAO],\r\n",
                "           [PROCESSO],\r\n",
                "           [DATA_INI],\r\n",
                "         [DATA_FIM])\r\n",
                "     VALUES\r\n",
                "        (ERROR_NUMBER(),\r\n",
                "        ERROR_SEVERITY(),\r\n",
                "        ERROR_STATE(),\r\n",
                "        ERROR_PROCEDURE(),\r\n",
                "        ERROR_LINE() ,\r\n",
                "        ERROR_MESSAGE() ,\r\n",
                "        'ERRO',\r\n",
                "        @VPROCESSO,\r\n",
                "      @VDATA_INI,\r\n",
                "      GETDATE()\r\n",
                "      )\r\n",
                "\r\n",
                "        \r\n",
                "END CATCH;  \r\n",
                "\r\n",
                "INSERT INTO LOG_CARGAS\r\n",
                "           ([NUMERO_ERRO],\r\n",
                "           [SERVERIDADE_ERRO],\r\n",
                "           [ESTADO_ERRO],\r\n",
                "           [PROC_ERRO],\r\n",
                "           [LINHA_ERRO],\r\n",
                "           [MSG_ERRO],\r\n",
                "           [SITUACAO],\r\n",
                "           [PROCESSO],\r\n",
                "           [DATA_INI],\r\n",
                "         [DATA_FIM])\r\n",
                "     VALUES\r\n",
                "        (ERROR_NUMBER(),\r\n",
                "        ERROR_SEVERITY(),\r\n",
                "        ERROR_STATE(),\r\n",
                "        ERROR_PROCEDURE(),\r\n",
                "        ERROR_LINE() ,\r\n",
                "        ERROR_MESSAGE() ,\r\n",
                "        'SUCESSO',\r\n",
                "        @VPROCESSO,\r\n",
                "      @VDATA_INI,\r\n",
                "      GETDATE()\r\n",
                "      )\r\n",
                "\r\n",
                "IF @@TRANCOUNT > 0  \r\n",
                "    COMMIT TRANSACTION;  \r\n",
                "GO     "
            ],
            "metadata": {
                "azdata_cell_guid": "e712a8ce-f995-4fa2-8ba7-ccbc617b89ff"
            },
            "outputs": [
                {
                    "output_type": "display_data",
                    "data": {
                        "text/html": "(4 rows affected)"
                    },
                    "metadata": {}
                },
                {
                    "output_type": "display_data",
                    "data": {
                        "text/html": "(1 row affected)"
                    },
                    "metadata": {}
                },
                {
                    "output_type": "display_data",
                    "data": {
                        "text/html": "Total execution time: 00:00:00.035"
                    },
                    "metadata": {}
                }
            ],
            "execution_count": 7
        },
        {
            "cell_type": "markdown",
            "source": [
                "**CARGA FATO**"
            ],
            "metadata": {
                "azdata_cell_guid": "4c15fabc-7325-4ec3-802b-67bbba994e19"
            },
            "attachments": {}
        },
        {
            "cell_type": "code",
            "source": [
                "BEGIN TRANSACTION;  \r\n",
                "   DECLARE @VDATA_INI DATETIME;\r\n",
                "    DECLARE @VPROCESSO VARCHAR(30);\r\n",
                "    SET @VDATA_INI= GETDATE();\r\n",
                "    SET @VPROCESSO= 'CARGA FATO'\r\n",
                "BEGIN TRY  \r\n",
                "\r\n",
                "MERGE FATO_VENDA AS Destino\r\n",
                "\r\n",
                "USING (\r\n",
                "SELECT  a.ID_VENDA,\r\n",
                "        b.ID_PAIS, \r\n",
                "\t\tc.ID_PRODUTO,  \r\n",
                "\t\td.ID_SEGMENTO,  \r\n",
                "\t\te.ID_TipoDesconto,   \r\n",
                "\t\ta.DataVenda,  \r\n",
                "\t\tCAST(REPLACE(a.PrecoCusto,',','.') AS decimal(10,2)) AS PrecoCusto, \r\n",
                "\t\tCAST(REPLACE(a.QtdeVendas,',','.') AS decimal(10,2)) AS QtdeVendas,\r\n",
                "\t\tCAST(REPLACE(a.CustoVenda,',','.') AS decimal(10,2)) AS CustoVenda,\r\n",
                "\t\tCAST(REPLACE(a.Desconto,',','.') AS decimal(10,2)) AS Desconto,\r\n",
                "\t\tCAST(REPLACE(a.Lucro,',','.') AS decimal(10,2)) AS Lucro,\r\n",
                "\t\tCAST(REPLACE(a.PrecoVenda,',','.') AS decimal(10,2)) AS PrecoVenda,\r\n",
                "\t\tCAST(REPLACE(a.VendaBruta,',','.') AS decimal(10,2)) AS VendaBruta,\r\n",
                "\t\tCAST(REPLACE(a.VendaLiquida,',','.') AS decimal(10,2)) AS VendaLiquida\r\n",
                " FROM STG_VENDAS a\r\n",
                "\tLEFT JOIN D_PAIS b\r\n",
                "\tON a.Pais=B.PAIS\r\n",
                "\r\n",
                "\tLEFT JOIN D_PRODUTO c\r\n",
                "\tON a.Produto=c.PRODUTO\r\n",
                "\r\n",
                "\tLEFT JOIN D_SEGMENTO d\r\n",
                "\tON a.Segmento=d.SEGMENTO\r\n",
                "\r\n",
                "\tLEFT JOIN D_TipoDesconto e\r\n",
                "\tON a.TipoDesconto=e.TipoDesconto\r\n",
                "\r\n",
                "\t) AS Origem\r\n",
                "\r\n",
                "\tON Destino.ID_VENDA = Origem.ID_VENDA\r\n",
                "\r\n",
                "-- Há registro no destino e na origem\r\n",
                "WHEN MATCHED \r\n",
                "\r\n",
                "THEN \r\n",
                "    UPDATE SET  \r\n",
                "                ID_PAIS=origem.ID_PAIS, \r\n",
                "                ID_PRODUTO=origem.ID_PRODUTO,\r\n",
                "                ID_SEGMENTO=origem.ID_SEGMENTO,\r\n",
                "                ID_TipoDesconto=origem.ID_TipoDesconto,\r\n",
                "                DataVenda=origem.DataVenda,\r\n",
                "                PrecoCusto=origem.PrecoCusto,\r\n",
                "                QtdeVendas=origem.QtdeVendas,\r\n",
                "                CustoVenda=origem.CustoVenda,\r\n",
                "\t\t\t\tDesconto=origem.Desconto,\r\n",
                "\t\t\t\tLucro=origem.Lucro,\r\n",
                "\t\t\t\tPrecoVenda=origem.PrecoVenda,\r\n",
                "\t\t\t\tVendaBruta=origem.VendaBruta,\r\n",
                "\t\t\t\tVendaLiquida=origem.VendaLiquida\r\n",
                "\r\n",
                "--Quando não há registro no destino e há na origem\r\n",
                "WHEN NOT MATCHED \r\n",
                "\r\n",
                "THEN \r\n",
                "   INSERT  \r\n",
                "           (ID_VENDA,\r\n",
                "            ID_PAIS,\r\n",
                "           ID_PRODUTO,\r\n",
                "           ID_SEGMENTO,\r\n",
                "           ID_TipoDesconto,\r\n",
                "           DataVenda,\r\n",
                "           PrecoCusto,\r\n",
                "           QtdeVendas,\r\n",
                "           CustoVenda,\r\n",
                "           Desconto,\r\n",
                "           Lucro,\r\n",
                "           PrecoVenda,\r\n",
                "           VendaBruta,\r\n",
                "           VendaLiquida)\r\n",
                "\r\n",
                "\tVALUES\r\n",
                "           (origem.ID_VENDA,\r\n",
                "           origem.ID_PAIS, \r\n",
                "           origem.ID_PRODUTO,\r\n",
                "           origem.ID_SEGMENTO,\r\n",
                "           origem.ID_TipoDesconto,\r\n",
                "\t\t   origem.DataVenda,\r\n",
                "\t\t   origem.PrecoCusto,\r\n",
                "\t\t   origem.QtdeVendas,\r\n",
                "\t\t   origem.CustoVenda,\r\n",
                "\t\t   origem.Desconto,\r\n",
                "\t\t   origem.Lucro,\r\n",
                "\t\t   origem.PrecoVenda,\r\n",
                "\t\t   origem.VendaBruta,\r\n",
                "\t\t   origem.VendaLiquida);\r\n",
                "           \r\n",
                "\r\n",
                "END TRY  \r\n",
                "BEGIN CATCH\r\n",
                "   IF @@TRANCOUNT > 0  \r\n",
                "        ROLLBACK TRANSACTION; \r\n",
                "\r\n",
                "INSERT INTO [dbo].[LOG_CARGAS]\r\n",
                "           ([NUMERO_ERRO],\r\n",
                "           [SERVERIDADE_ERRO],\r\n",
                "           [ESTADO_ERRO],\r\n",
                "           [PROC_ERRO],\r\n",
                "           [LINHA_ERRO],\r\n",
                "           [MSG_ERRO],\r\n",
                "           [SITUACAO],\r\n",
                "           [PROCESSO],\r\n",
                "           [DATA_INI],\r\n",
                "         [DATA_FIM])\r\n",
                "     VALUES\r\n",
                "        (ERROR_NUMBER(),\r\n",
                "        ERROR_SEVERITY(),\r\n",
                "        ERROR_STATE(),\r\n",
                "        ERROR_PROCEDURE(),\r\n",
                "        ERROR_LINE() ,\r\n",
                "        ERROR_MESSAGE() ,\r\n",
                "        'ERRO',\r\n",
                "        @VPROCESSO,\r\n",
                "      @VDATA_INI,\r\n",
                "      GETDATE()\r\n",
                "      )\r\n",
                "\r\n",
                "\tEND CATCH;  \r\n",
                "\r\n",
                "INSERT INTO LOG_CARGAS\r\n",
                "           ([NUMERO_ERRO],\r\n",
                "           [SERVERIDADE_ERRO],\r\n",
                "           [ESTADO_ERRO],\r\n",
                "           [PROC_ERRO],\r\n",
                "           [LINHA_ERRO],\r\n",
                "           [MSG_ERRO],\r\n",
                "           [SITUACAO],\r\n",
                "           [PROCESSO],\r\n",
                "           [DATA_INI],\r\n",
                "           [DATA_FIM])\r\n",
                "     VALUES\r\n",
                "        (ERROR_NUMBER(),\r\n",
                "        ERROR_SEVERITY(),\r\n",
                "        ERROR_STATE(),\r\n",
                "        ERROR_PROCEDURE(),\r\n",
                "        ERROR_LINE() ,\r\n",
                "        ERROR_MESSAGE() ,\r\n",
                "        'SUCESSO',\r\n",
                "        @VPROCESSO,\r\n",
                "      @VDATA_INI,\r\n",
                "      GETDATE()\r\n",
                "      )\r\n",
                "\r\n",
                "IF @@TRANCOUNT > 0  \r\n",
                "    COMMIT TRANSACTION;  \r\n",
                "GO  "
            ],
            "metadata": {
                "azdata_cell_guid": "92b63428-0c61-4f66-be95-ee112019bd34"
            },
            "outputs": [
                {
                    "output_type": "display_data",
                    "data": {
                        "text/html": "(700 rows affected)"
                    },
                    "metadata": {}
                },
                {
                    "output_type": "display_data",
                    "data": {
                        "text/html": "(1 row affected)"
                    },
                    "metadata": {}
                },
                {
                    "output_type": "display_data",
                    "data": {
                        "text/html": "Total execution time: 00:00:00.149"
                    },
                    "metadata": {}
                }
            ],
            "execution_count": 8
        }
    ]
}